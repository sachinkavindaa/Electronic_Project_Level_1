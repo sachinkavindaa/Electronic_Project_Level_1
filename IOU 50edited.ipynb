{
  "nbformat": 4,
  "nbformat_minor": 0,
  "metadata": {
    "colab": {
      "name": "Copy of Untitled1.ipynb",
      "provenance": [],
      "include_colab_link": true
    },
    "kernelspec": {
      "display_name": "Python 3",
      "name": "python3"
    },
    "language_info": {
      "name": "python"
    },
    "accelerator": "GPU"
  },
  "cells": [
    {
      "cell_type": "markdown",
      "metadata": {
        "id": "view-in-github",
        "colab_type": "text"
      },
      "source": [
        "<a href=\"https://colab.research.google.com/github/sachinkavindaa/Electronic_Project_Level_1/blob/master/IOU%2050edited.ipynb\" target=\"_parent\"><img src=\"https://colab.research.google.com/assets/colab-badge.svg\" alt=\"Open In Colab\"/></a>"
      ]
    },
    {
      "cell_type": "code",
      "metadata": {
        "id": "bIK_30Vl26uX"
      },
      "source": [
        "import pandas as pd\n",
        "import numpy as np\n",
        "import seaborn as sns\n",
        "import matplotlib.pyplot as plt\n",
        "import zipfile\n",
        "import cv2\n",
        "from skimage import io\n",
        "import tensorflow as tf\n",
        "from tensorflow.python.keras import Sequential\n",
        "from tensorflow.keras import layers, optimizers\n",
        "from tensorflow.keras.applications import DenseNet121\n",
        "from tensorflow.keras.applications.resnet50 import ResNet50\n",
        "from tensorflow.keras.layers import *\n",
        "from tensorflow.keras.models import Model, load_model\n",
        "from tensorflow.keras.initializers import glorot_uniform\n",
        "from tensorflow.keras.utils import plot_model\n",
        "from tensorflow.keras.callbacks import ReduceLROnPlateau, EarlyStopping, ModelCheckpoint, LearningRateScheduler\n",
        "from IPython.display import display\n",
        "from tensorflow.keras import backend as K\n",
        "from sklearn.preprocessing import StandardScaler, normalize\n",
        "import os\n",
        "import glob\n",
        "import random\n",
        "from google.colab import files #library to upload files to colab notebook\n",
        "%matplotlib inline"
      ],
      "execution_count": 1,
      "outputs": []
    },
    {
      "cell_type": "code",
      "metadata": {
        "colab": {
          "base_uri": "https://localhost:8080/"
        },
        "id": "dwXMhKRS3Uj8",
        "outputId": "0c632740-0e88-4b72-9a9e-5cab24fd65e1"
      },
      "source": [
        "from google.colab import drive\n",
        "drive.mount('/content/drive')"
      ],
      "execution_count": 2,
      "outputs": [
        {
          "output_type": "stream",
          "name": "stdout",
          "text": [
            "Mounted at /content/drive\n"
          ]
        }
      ]
    },
    {
      "cell_type": "code",
      "metadata": {
        "colab": {
          "base_uri": "https://localhost:8080/"
        },
        "id": "P_GEKHQC3pwx",
        "outputId": "6f7312c2-80fe-463a-f4b0-33606ed812b9"
      },
      "source": [
        "%cd /content/drive/MyDrive/Healthcare AI Datasets/Brain_MRI_Copy"
      ],
      "execution_count": 3,
      "outputs": [
        {
          "output_type": "stream",
          "name": "stdout",
          "text": [
            "/content/drive/MyDrive/Healthcare AI Datasets/Brain_MRI_Copy\n"
          ]
        }
      ]
    },
    {
      "cell_type": "code",
      "metadata": {
        "id": "Y3gs87eP3dNk"
      },
      "source": [
        "IMAGE_SIZE = (256, 256)"
      ],
      "execution_count": 4,
      "outputs": []
    },
    {
      "cell_type": "code",
      "metadata": {
        "id": "CCZF-NOo3fNp"
      },
      "source": [
        "brain_df = pd.read_csv('data_mask.csv')"
      ],
      "execution_count": 5,
      "outputs": []
    },
    {
      "cell_type": "code",
      "metadata": {
        "id": "NNCiBJ803uh9",
        "colab": {
          "base_uri": "https://localhost:8080/",
          "height": 35
        },
        "outputId": "acb38ed3-cd15-4bbc-d1ba-4f574ba3df7b"
      },
      "source": [
        "brain_df.mask_path[1]\n",
        "brain_df.image_path[1]"
      ],
      "execution_count": 6,
      "outputs": [
        {
          "output_type": "execute_result",
          "data": {
            "application/vnd.google.colaboratory.intrinsic+json": {
              "type": "string"
            },
            "text/plain": [
              "'TCGA_CS_4944_20010208/TCGA_CS_4944_20010208_1.tif'"
            ]
          },
          "metadata": {},
          "execution_count": 6
        }
      ]
    },
    {
      "cell_type": "code",
      "metadata": {
        "id": "cYWItrm43wu4"
      },
      "source": [
        "brain_df_train = brain_df.drop(columns = ['patient_id'])"
      ],
      "execution_count": 7,
      "outputs": []
    },
    {
      "cell_type": "code",
      "metadata": {
        "id": "h-cX5n9P3zbY"
      },
      "source": [
        "brain_df_train['mask'] = brain_df_train['mask'].apply(lambda x : str(x))"
      ],
      "execution_count": 8,
      "outputs": []
    },
    {
      "cell_type": "code",
      "metadata": {
        "id": "BQU80n5x31mV"
      },
      "source": [
        "from sklearn.model_selection import train_test_split\n",
        "df_train, df_test = train_test_split(brain_df_train, test_size=0.15)\n",
        "df_train, df_val = train_test_split(brain_df_train, test_size=0.15)"
      ],
      "execution_count": 9,
      "outputs": []
    },
    {
      "cell_type": "code",
      "metadata": {
        "id": "Y4BmXc5U34S6"
      },
      "source": [
        "from keras_preprocessing.image import ImageDataGenerator\n",
        "\n",
        "datagen = ImageDataGenerator(rescale=1./225., validation_split=0.15)"
      ],
      "execution_count": 10,
      "outputs": []
    },
    {
      "cell_type": "code",
      "metadata": {
        "id": "6p2eDDov36py",
        "colab": {
          "base_uri": "https://localhost:8080/"
        },
        "outputId": "9a97de11-5969-4c44-d4fa-03ec4af3e57e"
      },
      "source": [
        "train_generator=datagen.flow_from_dataframe(\n",
        "dataframe = df_train,\n",
        "directory='./', x_col='image_path', \n",
        "y_col='mask', \n",
        "target_size=(256, 256), \n",
        "class_mode='categorical', \n",
        "batch_size=32, \n",
        "shuffle=True,  \n",
        "subset='training'\n",
        ")\n",
        "\n",
        "valid_generator=datagen.flow_from_dataframe(\n",
        "dataframe = df_val,\n",
        "directory='./', \n",
        "x_col='image_path', \n",
        "y_col='mask', \n",
        "target_size=(256, 256), \n",
        "class_mode='categorical', \n",
        "batch_size=32, \n",
        "shuffle=True,  \n",
        "subset='validation'\n",
        ")\n",
        "\n",
        "\n",
        "test_datagen = ImageDataGenerator(rescale=1./225., validation_split=0.15)\n",
        "\n",
        "test_generator=datagen.flow_from_dataframe(\n",
        "dataframe = df_test,\n",
        "directory='./', \n",
        "x_col='image_path', \n",
        "y_col='mask', \n",
        "target_size=(256, 256), \n",
        "class_mode='categorical', \n",
        "batch_size=32, \n",
        "shuffle=True,  \n",
        ")\n"
      ],
      "execution_count": 11,
      "outputs": [
        {
          "output_type": "stream",
          "name": "stdout",
          "text": [
            "Found 259 validated image filenames belonging to 2 classes.\n",
            "Found 8 validated image filenames belonging to 2 classes.\n",
            "Found 56 validated image filenames belonging to 2 classes.\n"
          ]
        },
        {
          "output_type": "stream",
          "name": "stderr",
          "text": [
            "/usr/local/lib/python3.7/dist-packages/keras_preprocessing/image/dataframe_iterator.py:282: UserWarning: Found 3035 invalid image filename(s) in x_col=\"image_path\". These filename(s) will be ignored.\n",
            "  .format(n_invalid, x_col)\n",
            "/usr/local/lib/python3.7/dist-packages/keras_preprocessing/image/dataframe_iterator.py:282: UserWarning: Found 536 invalid image filename(s) in x_col=\"image_path\". These filename(s) will be ignored.\n",
            "  .format(n_invalid, x_col)\n",
            "/usr/local/lib/python3.7/dist-packages/keras_preprocessing/image/dataframe_iterator.py:282: UserWarning: Found 534 invalid image filename(s) in x_col=\"image_path\". These filename(s) will be ignored.\n",
            "  .format(n_invalid, x_col)\n"
          ]
        }
      ]
    },
    {
      "cell_type": "code",
      "metadata": {
        "id": "dLw1-L5u3-Yo",
        "colab": {
          "base_uri": "https://localhost:8080/"
        },
        "outputId": "026d1afc-6b39-4fa0-fd26-549336f30812"
      },
      "source": [
        "from tensorflow.keras.applications.resnet50 import ResNet50\n",
        "\n",
        "base_model = ResNet50(weights='imagenet', include_top=False, input_tensor=Input(shape=(256,256,3)))\n",
        "# for layer in base_model.layers:\n",
        "#     layer.trainable = False\n",
        "\n",
        "x = base_model.output\n",
        "x = AveragePooling2D(pool_size=(4,4))(x)\n",
        "x = Flatten()(x)\n",
        "x = Dense(256, activation='relu')(x)\n",
        "x = Dropout(0.3)(x)\n",
        "x = Dense(256, activation='relu')(x)\n",
        "x = Dropout(0.3)(x)\n",
        "x = Dense(2, activation='softmax')(x)\n",
        "\n",
        "clf_model = Model(base_model.input, outputs=x)\n",
        "clf_model.compile(loss='categorical_crossentropy',\n",
        "                 optimizer='adam',\n",
        "                 metrics=['accuracy'])\n",
        "clf_model.summary()"
      ],
      "execution_count": 12,
      "outputs": [
        {
          "output_type": "stream",
          "name": "stdout",
          "text": [
            "Downloading data from https://storage.googleapis.com/tensorflow/keras-applications/resnet/resnet50_weights_tf_dim_ordering_tf_kernels_notop.h5\n",
            "94773248/94765736 [==============================] - 1s 0us/step\n",
            "94781440/94765736 [==============================] - 1s 0us/step\n",
            "Model: \"model\"\n",
            "__________________________________________________________________________________________________\n",
            "Layer (type)                    Output Shape         Param #     Connected to                     \n",
            "==================================================================================================\n",
            "input_1 (InputLayer)            [(None, 256, 256, 3) 0                                            \n",
            "__________________________________________________________________________________________________\n",
            "conv1_pad (ZeroPadding2D)       (None, 262, 262, 3)  0           input_1[0][0]                    \n",
            "__________________________________________________________________________________________________\n",
            "conv1_conv (Conv2D)             (None, 128, 128, 64) 9472        conv1_pad[0][0]                  \n",
            "__________________________________________________________________________________________________\n",
            "conv1_bn (BatchNormalization)   (None, 128, 128, 64) 256         conv1_conv[0][0]                 \n",
            "__________________________________________________________________________________________________\n",
            "conv1_relu (Activation)         (None, 128, 128, 64) 0           conv1_bn[0][0]                   \n",
            "__________________________________________________________________________________________________\n",
            "pool1_pad (ZeroPadding2D)       (None, 130, 130, 64) 0           conv1_relu[0][0]                 \n",
            "__________________________________________________________________________________________________\n",
            "pool1_pool (MaxPooling2D)       (None, 64, 64, 64)   0           pool1_pad[0][0]                  \n",
            "__________________________________________________________________________________________________\n",
            "conv2_block1_1_conv (Conv2D)    (None, 64, 64, 64)   4160        pool1_pool[0][0]                 \n",
            "__________________________________________________________________________________________________\n",
            "conv2_block1_1_bn (BatchNormali (None, 64, 64, 64)   256         conv2_block1_1_conv[0][0]        \n",
            "__________________________________________________________________________________________________\n",
            "conv2_block1_1_relu (Activation (None, 64, 64, 64)   0           conv2_block1_1_bn[0][0]          \n",
            "__________________________________________________________________________________________________\n",
            "conv2_block1_2_conv (Conv2D)    (None, 64, 64, 64)   36928       conv2_block1_1_relu[0][0]        \n",
            "__________________________________________________________________________________________________\n",
            "conv2_block1_2_bn (BatchNormali (None, 64, 64, 64)   256         conv2_block1_2_conv[0][0]        \n",
            "__________________________________________________________________________________________________\n",
            "conv2_block1_2_relu (Activation (None, 64, 64, 64)   0           conv2_block1_2_bn[0][0]          \n",
            "__________________________________________________________________________________________________\n",
            "conv2_block1_0_conv (Conv2D)    (None, 64, 64, 256)  16640       pool1_pool[0][0]                 \n",
            "__________________________________________________________________________________________________\n",
            "conv2_block1_3_conv (Conv2D)    (None, 64, 64, 256)  16640       conv2_block1_2_relu[0][0]        \n",
            "__________________________________________________________________________________________________\n",
            "conv2_block1_0_bn (BatchNormali (None, 64, 64, 256)  1024        conv2_block1_0_conv[0][0]        \n",
            "__________________________________________________________________________________________________\n",
            "conv2_block1_3_bn (BatchNormali (None, 64, 64, 256)  1024        conv2_block1_3_conv[0][0]        \n",
            "__________________________________________________________________________________________________\n",
            "conv2_block1_add (Add)          (None, 64, 64, 256)  0           conv2_block1_0_bn[0][0]          \n",
            "                                                                 conv2_block1_3_bn[0][0]          \n",
            "__________________________________________________________________________________________________\n",
            "conv2_block1_out (Activation)   (None, 64, 64, 256)  0           conv2_block1_add[0][0]           \n",
            "__________________________________________________________________________________________________\n",
            "conv2_block2_1_conv (Conv2D)    (None, 64, 64, 64)   16448       conv2_block1_out[0][0]           \n",
            "__________________________________________________________________________________________________\n",
            "conv2_block2_1_bn (BatchNormali (None, 64, 64, 64)   256         conv2_block2_1_conv[0][0]        \n",
            "__________________________________________________________________________________________________\n",
            "conv2_block2_1_relu (Activation (None, 64, 64, 64)   0           conv2_block2_1_bn[0][0]          \n",
            "__________________________________________________________________________________________________\n",
            "conv2_block2_2_conv (Conv2D)    (None, 64, 64, 64)   36928       conv2_block2_1_relu[0][0]        \n",
            "__________________________________________________________________________________________________\n",
            "conv2_block2_2_bn (BatchNormali (None, 64, 64, 64)   256         conv2_block2_2_conv[0][0]        \n",
            "__________________________________________________________________________________________________\n",
            "conv2_block2_2_relu (Activation (None, 64, 64, 64)   0           conv2_block2_2_bn[0][0]          \n",
            "__________________________________________________________________________________________________\n",
            "conv2_block2_3_conv (Conv2D)    (None, 64, 64, 256)  16640       conv2_block2_2_relu[0][0]        \n",
            "__________________________________________________________________________________________________\n",
            "conv2_block2_3_bn (BatchNormali (None, 64, 64, 256)  1024        conv2_block2_3_conv[0][0]        \n",
            "__________________________________________________________________________________________________\n",
            "conv2_block2_add (Add)          (None, 64, 64, 256)  0           conv2_block1_out[0][0]           \n",
            "                                                                 conv2_block2_3_bn[0][0]          \n",
            "__________________________________________________________________________________________________\n",
            "conv2_block2_out (Activation)   (None, 64, 64, 256)  0           conv2_block2_add[0][0]           \n",
            "__________________________________________________________________________________________________\n",
            "conv2_block3_1_conv (Conv2D)    (None, 64, 64, 64)   16448       conv2_block2_out[0][0]           \n",
            "__________________________________________________________________________________________________\n",
            "conv2_block3_1_bn (BatchNormali (None, 64, 64, 64)   256         conv2_block3_1_conv[0][0]        \n",
            "__________________________________________________________________________________________________\n",
            "conv2_block3_1_relu (Activation (None, 64, 64, 64)   0           conv2_block3_1_bn[0][0]          \n",
            "__________________________________________________________________________________________________\n",
            "conv2_block3_2_conv (Conv2D)    (None, 64, 64, 64)   36928       conv2_block3_1_relu[0][0]        \n",
            "__________________________________________________________________________________________________\n",
            "conv2_block3_2_bn (BatchNormali (None, 64, 64, 64)   256         conv2_block3_2_conv[0][0]        \n",
            "__________________________________________________________________________________________________\n",
            "conv2_block3_2_relu (Activation (None, 64, 64, 64)   0           conv2_block3_2_bn[0][0]          \n",
            "__________________________________________________________________________________________________\n",
            "conv2_block3_3_conv (Conv2D)    (None, 64, 64, 256)  16640       conv2_block3_2_relu[0][0]        \n",
            "__________________________________________________________________________________________________\n",
            "conv2_block3_3_bn (BatchNormali (None, 64, 64, 256)  1024        conv2_block3_3_conv[0][0]        \n",
            "__________________________________________________________________________________________________\n",
            "conv2_block3_add (Add)          (None, 64, 64, 256)  0           conv2_block2_out[0][0]           \n",
            "                                                                 conv2_block3_3_bn[0][0]          \n",
            "__________________________________________________________________________________________________\n",
            "conv2_block3_out (Activation)   (None, 64, 64, 256)  0           conv2_block3_add[0][0]           \n",
            "__________________________________________________________________________________________________\n",
            "conv3_block1_1_conv (Conv2D)    (None, 32, 32, 128)  32896       conv2_block3_out[0][0]           \n",
            "__________________________________________________________________________________________________\n",
            "conv3_block1_1_bn (BatchNormali (None, 32, 32, 128)  512         conv3_block1_1_conv[0][0]        \n",
            "__________________________________________________________________________________________________\n",
            "conv3_block1_1_relu (Activation (None, 32, 32, 128)  0           conv3_block1_1_bn[0][0]          \n",
            "__________________________________________________________________________________________________\n",
            "conv3_block1_2_conv (Conv2D)    (None, 32, 32, 128)  147584      conv3_block1_1_relu[0][0]        \n",
            "__________________________________________________________________________________________________\n",
            "conv3_block1_2_bn (BatchNormali (None, 32, 32, 128)  512         conv3_block1_2_conv[0][0]        \n",
            "__________________________________________________________________________________________________\n",
            "conv3_block1_2_relu (Activation (None, 32, 32, 128)  0           conv3_block1_2_bn[0][0]          \n",
            "__________________________________________________________________________________________________\n",
            "conv3_block1_0_conv (Conv2D)    (None, 32, 32, 512)  131584      conv2_block3_out[0][0]           \n",
            "__________________________________________________________________________________________________\n",
            "conv3_block1_3_conv (Conv2D)    (None, 32, 32, 512)  66048       conv3_block1_2_relu[0][0]        \n",
            "__________________________________________________________________________________________________\n",
            "conv3_block1_0_bn (BatchNormali (None, 32, 32, 512)  2048        conv3_block1_0_conv[0][0]        \n",
            "__________________________________________________________________________________________________\n",
            "conv3_block1_3_bn (BatchNormali (None, 32, 32, 512)  2048        conv3_block1_3_conv[0][0]        \n",
            "__________________________________________________________________________________________________\n",
            "conv3_block1_add (Add)          (None, 32, 32, 512)  0           conv3_block1_0_bn[0][0]          \n",
            "                                                                 conv3_block1_3_bn[0][0]          \n",
            "__________________________________________________________________________________________________\n",
            "conv3_block1_out (Activation)   (None, 32, 32, 512)  0           conv3_block1_add[0][0]           \n",
            "__________________________________________________________________________________________________\n",
            "conv3_block2_1_conv (Conv2D)    (None, 32, 32, 128)  65664       conv3_block1_out[0][0]           \n",
            "__________________________________________________________________________________________________\n",
            "conv3_block2_1_bn (BatchNormali (None, 32, 32, 128)  512         conv3_block2_1_conv[0][0]        \n",
            "__________________________________________________________________________________________________\n",
            "conv3_block2_1_relu (Activation (None, 32, 32, 128)  0           conv3_block2_1_bn[0][0]          \n",
            "__________________________________________________________________________________________________\n",
            "conv3_block2_2_conv (Conv2D)    (None, 32, 32, 128)  147584      conv3_block2_1_relu[0][0]        \n",
            "__________________________________________________________________________________________________\n",
            "conv3_block2_2_bn (BatchNormali (None, 32, 32, 128)  512         conv3_block2_2_conv[0][0]        \n",
            "__________________________________________________________________________________________________\n",
            "conv3_block2_2_relu (Activation (None, 32, 32, 128)  0           conv3_block2_2_bn[0][0]          \n",
            "__________________________________________________________________________________________________\n",
            "conv3_block2_3_conv (Conv2D)    (None, 32, 32, 512)  66048       conv3_block2_2_relu[0][0]        \n",
            "__________________________________________________________________________________________________\n",
            "conv3_block2_3_bn (BatchNormali (None, 32, 32, 512)  2048        conv3_block2_3_conv[0][0]        \n",
            "__________________________________________________________________________________________________\n",
            "conv3_block2_add (Add)          (None, 32, 32, 512)  0           conv3_block1_out[0][0]           \n",
            "                                                                 conv3_block2_3_bn[0][0]          \n",
            "__________________________________________________________________________________________________\n",
            "conv3_block2_out (Activation)   (None, 32, 32, 512)  0           conv3_block2_add[0][0]           \n",
            "__________________________________________________________________________________________________\n",
            "conv3_block3_1_conv (Conv2D)    (None, 32, 32, 128)  65664       conv3_block2_out[0][0]           \n",
            "__________________________________________________________________________________________________\n",
            "conv3_block3_1_bn (BatchNormali (None, 32, 32, 128)  512         conv3_block3_1_conv[0][0]        \n",
            "__________________________________________________________________________________________________\n",
            "conv3_block3_1_relu (Activation (None, 32, 32, 128)  0           conv3_block3_1_bn[0][0]          \n",
            "__________________________________________________________________________________________________\n",
            "conv3_block3_2_conv (Conv2D)    (None, 32, 32, 128)  147584      conv3_block3_1_relu[0][0]        \n",
            "__________________________________________________________________________________________________\n",
            "conv3_block3_2_bn (BatchNormali (None, 32, 32, 128)  512         conv3_block3_2_conv[0][0]        \n",
            "__________________________________________________________________________________________________\n",
            "conv3_block3_2_relu (Activation (None, 32, 32, 128)  0           conv3_block3_2_bn[0][0]          \n",
            "__________________________________________________________________________________________________\n",
            "conv3_block3_3_conv (Conv2D)    (None, 32, 32, 512)  66048       conv3_block3_2_relu[0][0]        \n",
            "__________________________________________________________________________________________________\n",
            "conv3_block3_3_bn (BatchNormali (None, 32, 32, 512)  2048        conv3_block3_3_conv[0][0]        \n",
            "__________________________________________________________________________________________________\n",
            "conv3_block3_add (Add)          (None, 32, 32, 512)  0           conv3_block2_out[0][0]           \n",
            "                                                                 conv3_block3_3_bn[0][0]          \n",
            "__________________________________________________________________________________________________\n",
            "conv3_block3_out (Activation)   (None, 32, 32, 512)  0           conv3_block3_add[0][0]           \n",
            "__________________________________________________________________________________________________\n",
            "conv3_block4_1_conv (Conv2D)    (None, 32, 32, 128)  65664       conv3_block3_out[0][0]           \n",
            "__________________________________________________________________________________________________\n",
            "conv3_block4_1_bn (BatchNormali (None, 32, 32, 128)  512         conv3_block4_1_conv[0][0]        \n",
            "__________________________________________________________________________________________________\n",
            "conv3_block4_1_relu (Activation (None, 32, 32, 128)  0           conv3_block4_1_bn[0][0]          \n",
            "__________________________________________________________________________________________________\n",
            "conv3_block4_2_conv (Conv2D)    (None, 32, 32, 128)  147584      conv3_block4_1_relu[0][0]        \n",
            "__________________________________________________________________________________________________\n",
            "conv3_block4_2_bn (BatchNormali (None, 32, 32, 128)  512         conv3_block4_2_conv[0][0]        \n",
            "__________________________________________________________________________________________________\n",
            "conv3_block4_2_relu (Activation (None, 32, 32, 128)  0           conv3_block4_2_bn[0][0]          \n",
            "__________________________________________________________________________________________________\n",
            "conv3_block4_3_conv (Conv2D)    (None, 32, 32, 512)  66048       conv3_block4_2_relu[0][0]        \n",
            "__________________________________________________________________________________________________\n",
            "conv3_block4_3_bn (BatchNormali (None, 32, 32, 512)  2048        conv3_block4_3_conv[0][0]        \n",
            "__________________________________________________________________________________________________\n",
            "conv3_block4_add (Add)          (None, 32, 32, 512)  0           conv3_block3_out[0][0]           \n",
            "                                                                 conv3_block4_3_bn[0][0]          \n",
            "__________________________________________________________________________________________________\n",
            "conv3_block4_out (Activation)   (None, 32, 32, 512)  0           conv3_block4_add[0][0]           \n",
            "__________________________________________________________________________________________________\n",
            "conv4_block1_1_conv (Conv2D)    (None, 16, 16, 256)  131328      conv3_block4_out[0][0]           \n",
            "__________________________________________________________________________________________________\n",
            "conv4_block1_1_bn (BatchNormali (None, 16, 16, 256)  1024        conv4_block1_1_conv[0][0]        \n",
            "__________________________________________________________________________________________________\n",
            "conv4_block1_1_relu (Activation (None, 16, 16, 256)  0           conv4_block1_1_bn[0][0]          \n",
            "__________________________________________________________________________________________________\n",
            "conv4_block1_2_conv (Conv2D)    (None, 16, 16, 256)  590080      conv4_block1_1_relu[0][0]        \n",
            "__________________________________________________________________________________________________\n",
            "conv4_block1_2_bn (BatchNormali (None, 16, 16, 256)  1024        conv4_block1_2_conv[0][0]        \n",
            "__________________________________________________________________________________________________\n",
            "conv4_block1_2_relu (Activation (None, 16, 16, 256)  0           conv4_block1_2_bn[0][0]          \n",
            "__________________________________________________________________________________________________\n",
            "conv4_block1_0_conv (Conv2D)    (None, 16, 16, 1024) 525312      conv3_block4_out[0][0]           \n",
            "__________________________________________________________________________________________________\n",
            "conv4_block1_3_conv (Conv2D)    (None, 16, 16, 1024) 263168      conv4_block1_2_relu[0][0]        \n",
            "__________________________________________________________________________________________________\n",
            "conv4_block1_0_bn (BatchNormali (None, 16, 16, 1024) 4096        conv4_block1_0_conv[0][0]        \n",
            "__________________________________________________________________________________________________\n",
            "conv4_block1_3_bn (BatchNormali (None, 16, 16, 1024) 4096        conv4_block1_3_conv[0][0]        \n",
            "__________________________________________________________________________________________________\n",
            "conv4_block1_add (Add)          (None, 16, 16, 1024) 0           conv4_block1_0_bn[0][0]          \n",
            "                                                                 conv4_block1_3_bn[0][0]          \n",
            "__________________________________________________________________________________________________\n",
            "conv4_block1_out (Activation)   (None, 16, 16, 1024) 0           conv4_block1_add[0][0]           \n",
            "__________________________________________________________________________________________________\n",
            "conv4_block2_1_conv (Conv2D)    (None, 16, 16, 256)  262400      conv4_block1_out[0][0]           \n",
            "__________________________________________________________________________________________________\n",
            "conv4_block2_1_bn (BatchNormali (None, 16, 16, 256)  1024        conv4_block2_1_conv[0][0]        \n",
            "__________________________________________________________________________________________________\n",
            "conv4_block2_1_relu (Activation (None, 16, 16, 256)  0           conv4_block2_1_bn[0][0]          \n",
            "__________________________________________________________________________________________________\n",
            "conv4_block2_2_conv (Conv2D)    (None, 16, 16, 256)  590080      conv4_block2_1_relu[0][0]        \n",
            "__________________________________________________________________________________________________\n",
            "conv4_block2_2_bn (BatchNormali (None, 16, 16, 256)  1024        conv4_block2_2_conv[0][0]        \n",
            "__________________________________________________________________________________________________\n",
            "conv4_block2_2_relu (Activation (None, 16, 16, 256)  0           conv4_block2_2_bn[0][0]          \n",
            "__________________________________________________________________________________________________\n",
            "conv4_block2_3_conv (Conv2D)    (None, 16, 16, 1024) 263168      conv4_block2_2_relu[0][0]        \n",
            "__________________________________________________________________________________________________\n",
            "conv4_block2_3_bn (BatchNormali (None, 16, 16, 1024) 4096        conv4_block2_3_conv[0][0]        \n",
            "__________________________________________________________________________________________________\n",
            "conv4_block2_add (Add)          (None, 16, 16, 1024) 0           conv4_block1_out[0][0]           \n",
            "                                                                 conv4_block2_3_bn[0][0]          \n",
            "__________________________________________________________________________________________________\n",
            "conv4_block2_out (Activation)   (None, 16, 16, 1024) 0           conv4_block2_add[0][0]           \n",
            "__________________________________________________________________________________________________\n",
            "conv4_block3_1_conv (Conv2D)    (None, 16, 16, 256)  262400      conv4_block2_out[0][0]           \n",
            "__________________________________________________________________________________________________\n",
            "conv4_block3_1_bn (BatchNormali (None, 16, 16, 256)  1024        conv4_block3_1_conv[0][0]        \n",
            "__________________________________________________________________________________________________\n",
            "conv4_block3_1_relu (Activation (None, 16, 16, 256)  0           conv4_block3_1_bn[0][0]          \n",
            "__________________________________________________________________________________________________\n",
            "conv4_block3_2_conv (Conv2D)    (None, 16, 16, 256)  590080      conv4_block3_1_relu[0][0]        \n",
            "__________________________________________________________________________________________________\n",
            "conv4_block3_2_bn (BatchNormali (None, 16, 16, 256)  1024        conv4_block3_2_conv[0][0]        \n",
            "__________________________________________________________________________________________________\n",
            "conv4_block3_2_relu (Activation (None, 16, 16, 256)  0           conv4_block3_2_bn[0][0]          \n",
            "__________________________________________________________________________________________________\n",
            "conv4_block3_3_conv (Conv2D)    (None, 16, 16, 1024) 263168      conv4_block3_2_relu[0][0]        \n",
            "__________________________________________________________________________________________________\n",
            "conv4_block3_3_bn (BatchNormali (None, 16, 16, 1024) 4096        conv4_block3_3_conv[0][0]        \n",
            "__________________________________________________________________________________________________\n",
            "conv4_block3_add (Add)          (None, 16, 16, 1024) 0           conv4_block2_out[0][0]           \n",
            "                                                                 conv4_block3_3_bn[0][0]          \n",
            "__________________________________________________________________________________________________\n",
            "conv4_block3_out (Activation)   (None, 16, 16, 1024) 0           conv4_block3_add[0][0]           \n",
            "__________________________________________________________________________________________________\n",
            "conv4_block4_1_conv (Conv2D)    (None, 16, 16, 256)  262400      conv4_block3_out[0][0]           \n",
            "__________________________________________________________________________________________________\n",
            "conv4_block4_1_bn (BatchNormali (None, 16, 16, 256)  1024        conv4_block4_1_conv[0][0]        \n",
            "__________________________________________________________________________________________________\n",
            "conv4_block4_1_relu (Activation (None, 16, 16, 256)  0           conv4_block4_1_bn[0][0]          \n",
            "__________________________________________________________________________________________________\n",
            "conv4_block4_2_conv (Conv2D)    (None, 16, 16, 256)  590080      conv4_block4_1_relu[0][0]        \n",
            "__________________________________________________________________________________________________\n",
            "conv4_block4_2_bn (BatchNormali (None, 16, 16, 256)  1024        conv4_block4_2_conv[0][0]        \n",
            "__________________________________________________________________________________________________\n",
            "conv4_block4_2_relu (Activation (None, 16, 16, 256)  0           conv4_block4_2_bn[0][0]          \n",
            "__________________________________________________________________________________________________\n",
            "conv4_block4_3_conv (Conv2D)    (None, 16, 16, 1024) 263168      conv4_block4_2_relu[0][0]        \n",
            "__________________________________________________________________________________________________\n",
            "conv4_block4_3_bn (BatchNormali (None, 16, 16, 1024) 4096        conv4_block4_3_conv[0][0]        \n",
            "__________________________________________________________________________________________________\n",
            "conv4_block4_add (Add)          (None, 16, 16, 1024) 0           conv4_block3_out[0][0]           \n",
            "                                                                 conv4_block4_3_bn[0][0]          \n",
            "__________________________________________________________________________________________________\n",
            "conv4_block4_out (Activation)   (None, 16, 16, 1024) 0           conv4_block4_add[0][0]           \n",
            "__________________________________________________________________________________________________\n",
            "conv4_block5_1_conv (Conv2D)    (None, 16, 16, 256)  262400      conv4_block4_out[0][0]           \n",
            "__________________________________________________________________________________________________\n",
            "conv4_block5_1_bn (BatchNormali (None, 16, 16, 256)  1024        conv4_block5_1_conv[0][0]        \n",
            "__________________________________________________________________________________________________\n",
            "conv4_block5_1_relu (Activation (None, 16, 16, 256)  0           conv4_block5_1_bn[0][0]          \n",
            "__________________________________________________________________________________________________\n",
            "conv4_block5_2_conv (Conv2D)    (None, 16, 16, 256)  590080      conv4_block5_1_relu[0][0]        \n",
            "__________________________________________________________________________________________________\n",
            "conv4_block5_2_bn (BatchNormali (None, 16, 16, 256)  1024        conv4_block5_2_conv[0][0]        \n",
            "__________________________________________________________________________________________________\n",
            "conv4_block5_2_relu (Activation (None, 16, 16, 256)  0           conv4_block5_2_bn[0][0]          \n",
            "__________________________________________________________________________________________________\n",
            "conv4_block5_3_conv (Conv2D)    (None, 16, 16, 1024) 263168      conv4_block5_2_relu[0][0]        \n",
            "__________________________________________________________________________________________________\n",
            "conv4_block5_3_bn (BatchNormali (None, 16, 16, 1024) 4096        conv4_block5_3_conv[0][0]        \n",
            "__________________________________________________________________________________________________\n",
            "conv4_block5_add (Add)          (None, 16, 16, 1024) 0           conv4_block4_out[0][0]           \n",
            "                                                                 conv4_block5_3_bn[0][0]          \n",
            "__________________________________________________________________________________________________\n",
            "conv4_block5_out (Activation)   (None, 16, 16, 1024) 0           conv4_block5_add[0][0]           \n",
            "__________________________________________________________________________________________________\n",
            "conv4_block6_1_conv (Conv2D)    (None, 16, 16, 256)  262400      conv4_block5_out[0][0]           \n",
            "__________________________________________________________________________________________________\n",
            "conv4_block6_1_bn (BatchNormali (None, 16, 16, 256)  1024        conv4_block6_1_conv[0][0]        \n",
            "__________________________________________________________________________________________________\n",
            "conv4_block6_1_relu (Activation (None, 16, 16, 256)  0           conv4_block6_1_bn[0][0]          \n",
            "__________________________________________________________________________________________________\n",
            "conv4_block6_2_conv (Conv2D)    (None, 16, 16, 256)  590080      conv4_block6_1_relu[0][0]        \n",
            "__________________________________________________________________________________________________\n",
            "conv4_block6_2_bn (BatchNormali (None, 16, 16, 256)  1024        conv4_block6_2_conv[0][0]        \n",
            "__________________________________________________________________________________________________\n",
            "conv4_block6_2_relu (Activation (None, 16, 16, 256)  0           conv4_block6_2_bn[0][0]          \n",
            "__________________________________________________________________________________________________\n",
            "conv4_block6_3_conv (Conv2D)    (None, 16, 16, 1024) 263168      conv4_block6_2_relu[0][0]        \n",
            "__________________________________________________________________________________________________\n",
            "conv4_block6_3_bn (BatchNormali (None, 16, 16, 1024) 4096        conv4_block6_3_conv[0][0]        \n",
            "__________________________________________________________________________________________________\n",
            "conv4_block6_add (Add)          (None, 16, 16, 1024) 0           conv4_block5_out[0][0]           \n",
            "                                                                 conv4_block6_3_bn[0][0]          \n",
            "__________________________________________________________________________________________________\n",
            "conv4_block6_out (Activation)   (None, 16, 16, 1024) 0           conv4_block6_add[0][0]           \n",
            "__________________________________________________________________________________________________\n",
            "conv5_block1_1_conv (Conv2D)    (None, 8, 8, 512)    524800      conv4_block6_out[0][0]           \n",
            "__________________________________________________________________________________________________\n",
            "conv5_block1_1_bn (BatchNormali (None, 8, 8, 512)    2048        conv5_block1_1_conv[0][0]        \n",
            "__________________________________________________________________________________________________\n",
            "conv5_block1_1_relu (Activation (None, 8, 8, 512)    0           conv5_block1_1_bn[0][0]          \n",
            "__________________________________________________________________________________________________\n",
            "conv5_block1_2_conv (Conv2D)    (None, 8, 8, 512)    2359808     conv5_block1_1_relu[0][0]        \n",
            "__________________________________________________________________________________________________\n",
            "conv5_block1_2_bn (BatchNormali (None, 8, 8, 512)    2048        conv5_block1_2_conv[0][0]        \n",
            "__________________________________________________________________________________________________\n",
            "conv5_block1_2_relu (Activation (None, 8, 8, 512)    0           conv5_block1_2_bn[0][0]          \n",
            "__________________________________________________________________________________________________\n",
            "conv5_block1_0_conv (Conv2D)    (None, 8, 8, 2048)   2099200     conv4_block6_out[0][0]           \n",
            "__________________________________________________________________________________________________\n",
            "conv5_block1_3_conv (Conv2D)    (None, 8, 8, 2048)   1050624     conv5_block1_2_relu[0][0]        \n",
            "__________________________________________________________________________________________________\n",
            "conv5_block1_0_bn (BatchNormali (None, 8, 8, 2048)   8192        conv5_block1_0_conv[0][0]        \n",
            "__________________________________________________________________________________________________\n",
            "conv5_block1_3_bn (BatchNormali (None, 8, 8, 2048)   8192        conv5_block1_3_conv[0][0]        \n",
            "__________________________________________________________________________________________________\n",
            "conv5_block1_add (Add)          (None, 8, 8, 2048)   0           conv5_block1_0_bn[0][0]          \n",
            "                                                                 conv5_block1_3_bn[0][0]          \n",
            "__________________________________________________________________________________________________\n",
            "conv5_block1_out (Activation)   (None, 8, 8, 2048)   0           conv5_block1_add[0][0]           \n",
            "__________________________________________________________________________________________________\n",
            "conv5_block2_1_conv (Conv2D)    (None, 8, 8, 512)    1049088     conv5_block1_out[0][0]           \n",
            "__________________________________________________________________________________________________\n",
            "conv5_block2_1_bn (BatchNormali (None, 8, 8, 512)    2048        conv5_block2_1_conv[0][0]        \n",
            "__________________________________________________________________________________________________\n",
            "conv5_block2_1_relu (Activation (None, 8, 8, 512)    0           conv5_block2_1_bn[0][0]          \n",
            "__________________________________________________________________________________________________\n",
            "conv5_block2_2_conv (Conv2D)    (None, 8, 8, 512)    2359808     conv5_block2_1_relu[0][0]        \n",
            "__________________________________________________________________________________________________\n",
            "conv5_block2_2_bn (BatchNormali (None, 8, 8, 512)    2048        conv5_block2_2_conv[0][0]        \n",
            "__________________________________________________________________________________________________\n",
            "conv5_block2_2_relu (Activation (None, 8, 8, 512)    0           conv5_block2_2_bn[0][0]          \n",
            "__________________________________________________________________________________________________\n",
            "conv5_block2_3_conv (Conv2D)    (None, 8, 8, 2048)   1050624     conv5_block2_2_relu[0][0]        \n",
            "__________________________________________________________________________________________________\n",
            "conv5_block2_3_bn (BatchNormali (None, 8, 8, 2048)   8192        conv5_block2_3_conv[0][0]        \n",
            "__________________________________________________________________________________________________\n",
            "conv5_block2_add (Add)          (None, 8, 8, 2048)   0           conv5_block1_out[0][0]           \n",
            "                                                                 conv5_block2_3_bn[0][0]          \n",
            "__________________________________________________________________________________________________\n",
            "conv5_block2_out (Activation)   (None, 8, 8, 2048)   0           conv5_block2_add[0][0]           \n",
            "__________________________________________________________________________________________________\n",
            "conv5_block3_1_conv (Conv2D)    (None, 8, 8, 512)    1049088     conv5_block2_out[0][0]           \n",
            "__________________________________________________________________________________________________\n",
            "conv5_block3_1_bn (BatchNormali (None, 8, 8, 512)    2048        conv5_block3_1_conv[0][0]        \n",
            "__________________________________________________________________________________________________\n",
            "conv5_block3_1_relu (Activation (None, 8, 8, 512)    0           conv5_block3_1_bn[0][0]          \n",
            "__________________________________________________________________________________________________\n",
            "conv5_block3_2_conv (Conv2D)    (None, 8, 8, 512)    2359808     conv5_block3_1_relu[0][0]        \n",
            "__________________________________________________________________________________________________\n",
            "conv5_block3_2_bn (BatchNormali (None, 8, 8, 512)    2048        conv5_block3_2_conv[0][0]        \n",
            "__________________________________________________________________________________________________\n",
            "conv5_block3_2_relu (Activation (None, 8, 8, 512)    0           conv5_block3_2_bn[0][0]          \n",
            "__________________________________________________________________________________________________\n",
            "conv5_block3_3_conv (Conv2D)    (None, 8, 8, 2048)   1050624     conv5_block3_2_relu[0][0]        \n",
            "__________________________________________________________________________________________________\n",
            "conv5_block3_3_bn (BatchNormali (None, 8, 8, 2048)   8192        conv5_block3_3_conv[0][0]        \n",
            "__________________________________________________________________________________________________\n",
            "conv5_block3_add (Add)          (None, 8, 8, 2048)   0           conv5_block2_out[0][0]           \n",
            "                                                                 conv5_block3_3_bn[0][0]          \n",
            "__________________________________________________________________________________________________\n",
            "conv5_block3_out (Activation)   (None, 8, 8, 2048)   0           conv5_block3_add[0][0]           \n",
            "__________________________________________________________________________________________________\n",
            "average_pooling2d (AveragePooli (None, 2, 2, 2048)   0           conv5_block3_out[0][0]           \n",
            "__________________________________________________________________________________________________\n",
            "flatten (Flatten)               (None, 8192)         0           average_pooling2d[0][0]          \n",
            "__________________________________________________________________________________________________\n",
            "dense (Dense)                   (None, 256)          2097408     flatten[0][0]                    \n",
            "__________________________________________________________________________________________________\n",
            "dropout (Dropout)               (None, 256)          0           dense[0][0]                      \n",
            "__________________________________________________________________________________________________\n",
            "dense_1 (Dense)                 (None, 256)          65792       dropout[0][0]                    \n",
            "__________________________________________________________________________________________________\n",
            "dropout_1 (Dropout)             (None, 256)          0           dense_1[0][0]                    \n",
            "__________________________________________________________________________________________________\n",
            "dense_2 (Dense)                 (None, 2)            514         dropout_1[0][0]                  \n",
            "==================================================================================================\n",
            "Total params: 25,751,426\n",
            "Trainable params: 25,698,306\n",
            "Non-trainable params: 53,120\n",
            "__________________________________________________________________________________________________\n"
          ]
        }
      ]
    },
    {
      "cell_type": "code",
      "metadata": {
        "id": "LPEqSdKM4CWi"
      },
      "source": [
        "es = EarlyStopping(monitor='val_loss',\n",
        "                  mode='min',\n",
        "                  verbose=1,\n",
        "                  patience=10)\n",
        "checkpoint = ModelCheckpoint(filepath='clf_model.hdf5',\n",
        "                            verbose=1,\n",
        "                            save_best_only=True)\n",
        "reduce_lr = ReduceLROnPlateau(monitor='val_loss',\n",
        "                             mode='min',\n",
        "                             verbose=1,\n",
        "                             patience=5,\n",
        "                             min_denta=0.0001,\n",
        "                             factor=0.2)\n",
        "my_callbacks = [es, checkpoint, reduce_lr]"
      ],
      "execution_count": 13,
      "outputs": []
    },
    {
      "cell_type": "code",
      "metadata": {
        "id": "7cNwzJsh4JhY"
      },
      "source": [
        "def train_generator(data_frame, batch_size, aug_dict,\n",
        "        image_color_mode=\"rgb\",\n",
        "        mask_color_mode=\"grayscale\",\n",
        "        image_save_prefix=\"image\",\n",
        "        mask_save_prefix=\"mask\",\n",
        "        save_to_dir=None,\n",
        "        target_size=(256,256),\n",
        "        seed=1):\n",
        "    image_datagen = ImageDataGenerator(**aug_dict)\n",
        "    mask_datagen = ImageDataGenerator(**aug_dict)\n",
        "    \n",
        "    image_generator = image_datagen.flow_from_dataframe(\n",
        "        data_frame,\n",
        "        x_col = \"image_path\",\n",
        "        class_mode = None,\n",
        "        color_mode = image_color_mode,\n",
        "        target_size = target_size,\n",
        "        batch_size = batch_size,\n",
        "        save_to_dir = save_to_dir,\n",
        "        save_prefix  = image_save_prefix,\n",
        "        seed = seed)\n",
        "    \n",
        "    mask_generator = mask_datagen.flow_from_dataframe(\n",
        "        data_frame,\n",
        "        x_col = \"mask_path\",\n",
        "        class_mode = None,\n",
        "        color_mode = mask_color_mode,\n",
        "        target_size = target_size,\n",
        "        batch_size = batch_size,\n",
        "        save_to_dir = save_to_dir,\n",
        "        save_prefix  = mask_save_prefix,\n",
        "        seed = seed)\n",
        "\n",
        "    train_gen = zip(image_generator, mask_generator)\n",
        "    \n",
        "    for (img, mask) in train_gen:\n",
        "        img, mask = adjust_data(img, mask)\n",
        "        yield (img,mask)\n",
        "\n",
        "\n",
        "def adjust_data(img,mask):\n",
        "    img = img / 255.\n",
        "    mask = mask / 255.\n",
        "    mask[mask > 0.5] = 1\n",
        "    mask[mask <= 0.5] = 0\n",
        "    \n",
        "    return (img, mask)"
      ],
      "execution_count": 14,
      "outputs": []
    },
    {
      "cell_type": "code",
      "metadata": {
        "id": "YQZ8-wdW4M41"
      },
      "source": [
        "smooth=100\n",
        "\n",
        "def dice_coef(y_true, y_pred):\n",
        "    y_truef=K.flatten(y_true)\n",
        "    y_predf=K.flatten(y_pred)\n",
        "    And=K.sum(y_truef* y_predf)\n",
        "    return((2* And + smooth) / (K.sum(y_truef) + K.sum(y_predf) + smooth))\n",
        "\n",
        "def dice_coef_loss(y_true, y_pred):\n",
        "    return -dice_coef(y_true, y_pred)\n",
        "\n",
        "def iou(y_true, y_pred):\n",
        "    intersection = K.sum(y_true * y_pred)\n",
        "    sum_ = K.sum(y_true + y_pred)\n",
        "    jac = (intersection + smooth) / (sum_ - intersection + smooth)\n",
        "    return jac\n",
        "\n",
        "def jac_distance(y_true, y_pred):\n",
        "    y_truef=K.flatten(y_true)\n",
        "    y_predf=K.flatten(y_pred)\n",
        "\n",
        "    return - iou(y_true, y_pred)"
      ],
      "execution_count": 15,
      "outputs": []
    },
    {
      "cell_type": "code",
      "metadata": {
        "id": "lIZ0WK4i4P63"
      },
      "source": [
        "def unet(input_size=(256,256,3)):\n",
        "    inputs = Input(input_size)\n",
        "    \n",
        "    conv1 = Conv2D(64, (3, 3), padding='same')(inputs)\n",
        "    bn1 = Activation('relu')(conv1)\n",
        "    conv1 = Conv2D(64, (3, 3), padding='same')(bn1)\n",
        "    bn1 = BatchNormalization(axis=3)(conv1)\n",
        "    bn1 = Activation('relu')(bn1)\n",
        "    pool1 = MaxPooling2D(pool_size=(2, 2))(bn1)\n",
        "\n",
        "    conv2 = Conv2D(128, (3, 3), padding='same')(pool1)\n",
        "    bn2 = Activation('relu')(conv2)\n",
        "    conv2 = Conv2D(128, (3, 3), padding='same')(bn2)\n",
        "    bn2 = BatchNormalization(axis=3)(conv2)\n",
        "    bn2 = Activation('relu')(bn2)\n",
        "    pool2 = MaxPooling2D(pool_size=(2, 2))(bn2)\n",
        "\n",
        "    conv3 = Conv2D(256, (3, 3), padding='same')(pool2)\n",
        "    bn3 = Activation('relu')(conv3)\n",
        "    conv3 = Conv2D(256, (3, 3), padding='same')(bn3)\n",
        "    bn3 = BatchNormalization(axis=3)(conv3)\n",
        "    bn3 = Activation('relu')(bn3)\n",
        "    pool3 = MaxPooling2D(pool_size=(2, 2))(bn3)\n",
        "\n",
        "    conv4 = Conv2D(512, (3, 3), padding='same')(pool3)\n",
        "    bn4 = Activation('relu')(conv4)\n",
        "    conv4 = Conv2D(512, (3, 3), padding='same')(bn4)\n",
        "    bn4 = BatchNormalization(axis=3)(conv4)\n",
        "    bn4 = Activation('relu')(bn4)\n",
        "    pool4 = MaxPooling2D(pool_size=(2, 2))(bn4)\n",
        "\n",
        "    conv5 = Conv2D(1024, (3, 3), padding='same')(pool4)\n",
        "    bn5 = Activation('relu')(conv5)\n",
        "    conv5 = Conv2D(1024, (3, 3), padding='same')(bn5)\n",
        "    bn5 = BatchNormalization(axis=3)(conv5)\n",
        "    bn5 = Activation('relu')(bn5)\n",
        "\n",
        "    up6 = concatenate([Conv2DTranspose(512, (2, 2), strides=(2, 2), padding='same')(bn5), conv4], axis=3)\n",
        "    conv6 = Conv2D(512, (3, 3), padding='same')(up6)\n",
        "    bn6 = Activation('relu')(conv6)\n",
        "    conv6 = Conv2D(512, (3, 3), padding='same')(bn6)\n",
        "    bn6 = BatchNormalization(axis=3)(conv6)\n",
        "    bn6 = Activation('relu')(bn6)\n",
        "\n",
        "    up7 = concatenate([Conv2DTranspose(256, (2, 2), strides=(2, 2), padding='same')(bn6), conv3], axis=3)\n",
        "    conv7 = Conv2D(256, (3, 3), padding='same')(up7)\n",
        "    bn7 = Activation('relu')(conv7)\n",
        "    conv7 = Conv2D(256, (3, 3), padding='same')(bn7)\n",
        "    bn7 = BatchNormalization(axis=3)(conv7)\n",
        "    bn7 = Activation('relu')(bn7)\n",
        "\n",
        "    up8 = concatenate([Conv2DTranspose(128, (2, 2), strides=(2, 2), padding='same')(bn7), conv2], axis=3)\n",
        "    conv8 = Conv2D(128, (3, 3), padding='same')(up8)\n",
        "    bn8 = Activation('relu')(conv8)\n",
        "    conv8 = Conv2D(128, (3, 3), padding='same')(bn8)\n",
        "    bn8 = BatchNormalization(axis=3)(conv8)\n",
        "    bn8 = Activation('relu')(bn8)\n",
        "\n",
        "    up9 = concatenate([Conv2DTranspose(64, (2, 2), strides=(2, 2), padding='same')(bn8), conv1], axis=3)\n",
        "    conv9 = Conv2D(64, (3, 3), padding='same')(up9)\n",
        "    bn9 = Activation('relu')(conv9)\n",
        "    conv9 = Conv2D(64, (3, 3), padding='same')(bn9)\n",
        "    bn9 = BatchNormalization(axis=3)(conv9)\n",
        "    bn9 = Activation('relu')(bn9)\n",
        "\n",
        "    conv10 = Conv2D(1, (1, 1), activation='sigmoid')(bn9)\n",
        "\n",
        "    return Model(inputs=[inputs], outputs=[conv10])\n",
        "\n"
      ],
      "execution_count": 16,
      "outputs": []
    },
    {
      "cell_type": "code",
      "metadata": {
        "id": "ewFt3Hv14TJS"
      },
      "source": [
        "EPOCHS = 50\n",
        "BATCH_SIZE = 16\n",
        "learning_rate = 1e-4"
      ],
      "execution_count": 17,
      "outputs": []
    },
    {
      "cell_type": "code",
      "metadata": {
        "id": "tZWgQh9K4U-Q"
      },
      "source": [
        "\n",
        "from tensorflow.python.keras import optimizers as opt\n",
        "from keras.models import Sequential\n",
        "from keras.layers import Dense, Dropout, LSTM, BatchNormalization\n",
        "from keras.callbacks import TensorBoard\n",
        "from keras.callbacks import ModelCheckpoint\n",
        "from tensorflow.keras.optimizers import Adam"
      ],
      "execution_count": 18,
      "outputs": []
    },
    {
      "cell_type": "code",
      "metadata": {
        "id": "DCztJpOP4XxZ",
        "colab": {
          "base_uri": "https://localhost:8080/"
        },
        "outputId": "3073f402-d49c-43de-f7ca-e082200c28de"
      },
      "source": [
        "train_generator_args = dict(rotation_range=0.2,\n",
        "                            width_shift_range=0.05,\n",
        "                            height_shift_range=0.05,\n",
        "                            shear_range=0.05,\n",
        "                            zoom_range=0.05,\n",
        "                            horizontal_flip=True,\n",
        "                            fill_mode='nearest')\n",
        "train_gen = train_generator(df_train, BATCH_SIZE,\n",
        "                                train_generator_args,\n",
        "                                target_size=IMAGE_SIZE)\n",
        "    \n",
        "test_gener = train_generator(df_val, BATCH_SIZE,\n",
        "                                dict(),\n",
        "                                target_size=IMAGE_SIZE)\n",
        "    \n",
        "model = unet(input_size=(IMAGE_SIZE[0], IMAGE_SIZE[1], 3))\n",
        "\n",
        "\n",
        "\n",
        "decay_rate = learning_rate / EPOCHS\n",
        "opt = Adam(lr=learning_rate, beta_1=0.9, beta_2=0.999, epsilon=None, decay=decay_rate, amsgrad=False)\n",
        "model.compile(optimizer=opt, loss=dice_coef_loss, metrics=[\"binary_accuracy\", iou, dice_coef])\n",
        "\n",
        "callbacks = [ModelCheckpoint('unet_brainMRI_seg.hdf5', verbose=1, save_best_only=True)]\n",
        "\n",
        "history = model.fit(train_gen,\n",
        "                    steps_per_epoch=len(df_train) / BATCH_SIZE, \n",
        "                    epochs=EPOCHS, \n",
        "                    callbacks=callbacks,\n",
        "                    validation_data = test_gener,\n",
        "                    validation_steps=len(df_val) / BATCH_SIZE)"
      ],
      "execution_count": 19,
      "outputs": [
        {
          "output_type": "stream",
          "name": "stderr",
          "text": [
            "/usr/local/lib/python3.7/dist-packages/keras/optimizer_v2/optimizer_v2.py:356: UserWarning: The `lr` argument is deprecated, use `learning_rate` instead.\n",
            "  \"The `lr` argument is deprecated, use `learning_rate` instead.\")\n",
            "/usr/local/lib/python3.7/dist-packages/keras_preprocessing/image/dataframe_iterator.py:282: UserWarning: Found 3035 invalid image filename(s) in x_col=\"image_path\". These filename(s) will be ignored.\n",
            "  .format(n_invalid, x_col)\n"
          ]
        },
        {
          "output_type": "stream",
          "name": "stdout",
          "text": [
            "Found 304 validated image filenames.\n"
          ]
        },
        {
          "output_type": "stream",
          "name": "stderr",
          "text": [
            "/usr/local/lib/python3.7/dist-packages/keras_preprocessing/image/dataframe_iterator.py:282: UserWarning: Found 3035 invalid image filename(s) in x_col=\"mask_path\". These filename(s) will be ignored.\n",
            "  .format(n_invalid, x_col)\n"
          ]
        },
        {
          "output_type": "stream",
          "name": "stdout",
          "text": [
            "Found 304 validated image filenames.\n",
            "Epoch 1/50\n",
            "209/208 [==============================] - ETA: 0s - loss: -0.2083 - binary_accuracy: 0.9581 - iou: 0.1200 - dice_coef: 0.2083Found 54 validated image filenames.\n",
            "Found 54 validated image filenames.\n"
          ]
        },
        {
          "output_type": "stream",
          "name": "stderr",
          "text": [
            "/usr/local/lib/python3.7/dist-packages/keras_preprocessing/image/dataframe_iterator.py:282: UserWarning: Found 536 invalid image filename(s) in x_col=\"image_path\". These filename(s) will be ignored.\n",
            "  .format(n_invalid, x_col)\n",
            "/usr/local/lib/python3.7/dist-packages/keras_preprocessing/image/dataframe_iterator.py:282: UserWarning: Found 536 invalid image filename(s) in x_col=\"mask_path\". These filename(s) will be ignored.\n",
            "  .format(n_invalid, x_col)\n"
          ]
        },
        {
          "output_type": "stream",
          "name": "stdout",
          "text": [
            "\b\b\b\b\b\b\b\b\b\b\b\b\b\b\b\b\b\b\b\b\b\b\b\b\b\b\b\b\b\b\b\b\b\b\b\b\b\b\b\b\b\b\b\b\b\b\b\b\b\b\b\b\b\b\b\b\b\b\b\b\b\b\b\b\b\b\b\b\b\b\b\b\b\b\b\b\b\b\b\b\b\b\b\b\b\b\b\b\b\b\b\b\b\b\b\b\b\b\b\b\b\b\b\b\b\b\b\b\b\b\b\b\b\b\b\b\b\b\b\b\b\b\b\b\b\b\r208/208 [==============================] - 500s 2s/step - loss: -0.2083 - binary_accuracy: 0.9581 - iou: 0.1200 - dice_coef: 0.2083 - val_loss: -0.0254 - val_binary_accuracy: 0.9870 - val_iou: 0.0135 - val_dice_coef: 0.0256\n",
            "\n",
            "Epoch 00001: val_loss improved from inf to -0.02537, saving model to unet_brainMRI_seg.hdf5\n",
            "Epoch 2/50\n",
            "208/208 [==============================] - 308s 1s/step - loss: -0.3338 - binary_accuracy: 0.9921 - iou: 0.2056 - dice_coef: 0.3338 - val_loss: -0.1062 - val_binary_accuracy: 0.9887 - val_iou: 0.0607 - val_dice_coef: 0.1097\n",
            "\n",
            "Epoch 00002: val_loss improved from -0.02537 to -0.10619, saving model to unet_brainMRI_seg.hdf5\n",
            "Epoch 3/50\n",
            "208/208 [==============================] - 308s 1s/step - loss: -0.4501 - binary_accuracy: 0.9953 - iou: 0.3001 - dice_coef: 0.4501 - val_loss: -0.4915 - val_binary_accuracy: 0.9962 - val_iou: 0.3313 - val_dice_coef: 0.4903\n",
            "\n",
            "Epoch 00003: val_loss improved from -0.10619 to -0.49150, saving model to unet_brainMRI_seg.hdf5\n",
            "Epoch 4/50\n",
            "208/208 [==============================] - 308s 1s/step - loss: -0.5769 - binary_accuracy: 0.9965 - iou: 0.4160 - dice_coef: 0.5769 - val_loss: -0.6161 - val_binary_accuracy: 0.9965 - val_iou: 0.4467 - val_dice_coef: 0.6091\n",
            "\n",
            "Epoch 00004: val_loss improved from -0.49150 to -0.61613, saving model to unet_brainMRI_seg.hdf5\n",
            "Epoch 5/50\n",
            "208/208 [==============================] - 308s 1s/step - loss: -0.6764 - binary_accuracy: 0.9970 - iou: 0.5215 - dice_coef: 0.6764 - val_loss: -0.6068 - val_binary_accuracy: 0.9952 - val_iou: 0.4492 - val_dice_coef: 0.6114\n",
            "\n",
            "Epoch 00005: val_loss did not improve from -0.61613\n",
            "Epoch 6/50\n",
            "208/208 [==============================] - 307s 1s/step - loss: -0.7294 - binary_accuracy: 0.9965 - iou: 0.5840 - dice_coef: 0.7294 - val_loss: -0.7619 - val_binary_accuracy: 0.9971 - val_iou: 0.6063 - val_dice_coef: 0.7475\n",
            "\n",
            "Epoch 00006: val_loss improved from -0.61613 to -0.76185, saving model to unet_brainMRI_seg.hdf5\n",
            "Epoch 7/50\n",
            "208/208 [==============================] - 307s 1s/step - loss: -0.7964 - binary_accuracy: 0.9976 - iou: 0.6709 - dice_coef: 0.7964 - val_loss: -0.8043 - val_binary_accuracy: 0.9974 - val_iou: 0.6647 - val_dice_coef: 0.7860\n",
            "\n",
            "Epoch 00007: val_loss improved from -0.76185 to -0.80431, saving model to unet_brainMRI_seg.hdf5\n",
            "Epoch 8/50\n",
            "208/208 [==============================] - 307s 1s/step - loss: -0.8314 - binary_accuracy: 0.9977 - iou: 0.7203 - dice_coef: 0.8314 - val_loss: -0.7847 - val_binary_accuracy: 0.9971 - val_iou: 0.6410 - val_dice_coef: 0.7633\n",
            "\n",
            "Epoch 00008: val_loss did not improve from -0.80431\n",
            "Epoch 9/50\n",
            "208/208 [==============================] - 307s 1s/step - loss: -0.8587 - binary_accuracy: 0.9980 - iou: 0.7606 - dice_coef: 0.8587 - val_loss: -0.8402 - val_binary_accuracy: 0.9976 - val_iou: 0.7125 - val_dice_coef: 0.8181\n",
            "\n",
            "Epoch 00009: val_loss improved from -0.80431 to -0.84023, saving model to unet_brainMRI_seg.hdf5\n",
            "Epoch 10/50\n",
            "208/208 [==============================] - 307s 1s/step - loss: -0.8796 - binary_accuracy: 0.9979 - iou: 0.7889 - dice_coef: 0.8796 - val_loss: -0.8614 - val_binary_accuracy: 0.9975 - val_iou: 0.7589 - val_dice_coef: 0.8609\n",
            "\n",
            "Epoch 00010: val_loss improved from -0.84023 to -0.86142, saving model to unet_brainMRI_seg.hdf5\n",
            "Epoch 11/50\n",
            "208/208 [==============================] - 307s 1s/step - loss: -0.8993 - binary_accuracy: 0.9982 - iou: 0.8196 - dice_coef: 0.8993 - val_loss: -0.8597 - val_binary_accuracy: 0.9973 - val_iou: 0.7541 - val_dice_coef: 0.8571\n",
            "\n",
            "Epoch 00011: val_loss did not improve from -0.86142\n",
            "Epoch 12/50\n",
            "208/208 [==============================] - 307s 1s/step - loss: -0.9078 - binary_accuracy: 0.9983 - iou: 0.8347 - dice_coef: 0.9078 - val_loss: -0.8688 - val_binary_accuracy: 0.9975 - val_iou: 0.7760 - val_dice_coef: 0.8719\n",
            "\n",
            "Epoch 00012: val_loss improved from -0.86142 to -0.86884, saving model to unet_brainMRI_seg.hdf5\n",
            "Epoch 13/50\n",
            "208/208 [==============================] - 307s 1s/step - loss: -0.9150 - binary_accuracy: 0.9983 - iou: 0.8452 - dice_coef: 0.9150 - val_loss: -0.8758 - val_binary_accuracy: 0.9975 - val_iou: 0.7829 - val_dice_coef: 0.8758\n",
            "\n",
            "Epoch 00013: val_loss improved from -0.86884 to -0.87578, saving model to unet_brainMRI_seg.hdf5\n",
            "Epoch 14/50\n",
            "208/208 [==============================] - 308s 1s/step - loss: -0.9237 - binary_accuracy: 0.9985 - iou: 0.8604 - dice_coef: 0.9237 - val_loss: -0.8743 - val_binary_accuracy: 0.9975 - val_iou: 0.7726 - val_dice_coef: 0.8671\n",
            "\n",
            "Epoch 00014: val_loss did not improve from -0.87578\n",
            "Epoch 15/50\n",
            "208/208 [==============================] - 308s 1s/step - loss: -0.9303 - binary_accuracy: 0.9985 - iou: 0.8711 - dice_coef: 0.9303 - val_loss: -0.8367 - val_binary_accuracy: 0.9966 - val_iou: 0.7332 - val_dice_coef: 0.8425\n",
            "\n",
            "Epoch 00015: val_loss did not improve from -0.87578\n",
            "Epoch 16/50\n",
            "208/208 [==============================] - 308s 1s/step - loss: -0.9386 - binary_accuracy: 0.9987 - iou: 0.8853 - dice_coef: 0.9386 - val_loss: -0.8875 - val_binary_accuracy: 0.9974 - val_iou: 0.8024 - val_dice_coef: 0.8891\n",
            "\n",
            "Epoch 00016: val_loss improved from -0.87578 to -0.88755, saving model to unet_brainMRI_seg.hdf5\n",
            "Epoch 17/50\n",
            "208/208 [==============================] - 308s 1s/step - loss: -0.9128 - binary_accuracy: 0.9980 - iou: 0.8454 - dice_coef: 0.9128 - val_loss: -0.7089 - val_binary_accuracy: 0.9942 - val_iou: 0.5523 - val_dice_coef: 0.6938\n",
            "\n",
            "Epoch 00017: val_loss did not improve from -0.88755\n",
            "Epoch 18/50\n",
            "208/208 [==============================] - 308s 1s/step - loss: -0.9281 - binary_accuracy: 0.9983 - iou: 0.8675 - dice_coef: 0.9281 - val_loss: -0.8898 - val_binary_accuracy: 0.9975 - val_iou: 0.7973 - val_dice_coef: 0.8849\n",
            "\n",
            "Epoch 00018: val_loss improved from -0.88755 to -0.88981, saving model to unet_brainMRI_seg.hdf5\n",
            "Epoch 19/50\n",
            "208/208 [==============================] - 308s 1s/step - loss: -0.9445 - binary_accuracy: 0.9987 - iou: 0.8957 - dice_coef: 0.9445 - val_loss: -0.8853 - val_binary_accuracy: 0.9975 - val_iou: 0.7962 - val_dice_coef: 0.8796\n",
            "\n",
            "Epoch 00019: val_loss did not improve from -0.88981\n",
            "Epoch 20/50\n",
            "208/208 [==============================] - 309s 1s/step - loss: -0.9495 - binary_accuracy: 0.9988 - iou: 0.9046 - dice_coef: 0.9495 - val_loss: -0.8943 - val_binary_accuracy: 0.9976 - val_iou: 0.8057 - val_dice_coef: 0.8844\n",
            "\n",
            "Epoch 00020: val_loss improved from -0.88981 to -0.89425, saving model to unet_brainMRI_seg.hdf5\n",
            "Epoch 21/50\n",
            "208/208 [==============================] - 310s 1s/step - loss: -0.9541 - binary_accuracy: 0.9989 - iou: 0.9127 - dice_coef: 0.9541 - val_loss: -0.8925 - val_binary_accuracy: 0.9976 - val_iou: 0.8074 - val_dice_coef: 0.8875\n",
            "\n",
            "Epoch 00021: val_loss did not improve from -0.89425\n",
            "Epoch 22/50\n",
            "208/208 [==============================] - 309s 1s/step - loss: -0.9476 - binary_accuracy: 0.9987 - iou: 0.9015 - dice_coef: 0.9476 - val_loss: -0.7071 - val_binary_accuracy: 0.9936 - val_iou: 0.5525 - val_dice_coef: 0.6954\n",
            "\n",
            "Epoch 00022: val_loss did not improve from -0.89425\n",
            "Epoch 23/50\n",
            "208/208 [==============================] - 310s 1s/step - loss: -0.8947 - binary_accuracy: 0.9973 - iou: 0.8153 - dice_coef: 0.8947 - val_loss: -0.9073 - val_binary_accuracy: 0.9978 - val_iou: 0.8308 - val_dice_coef: 0.9033\n",
            "\n",
            "Epoch 00023: val_loss improved from -0.89425 to -0.90729, saving model to unet_brainMRI_seg.hdf5\n",
            "Epoch 24/50\n",
            "208/208 [==============================] - 311s 1s/step - loss: -0.9463 - binary_accuracy: 0.9986 - iou: 0.8989 - dice_coef: 0.9463 - val_loss: -0.9047 - val_binary_accuracy: 0.9977 - val_iou: 0.8209 - val_dice_coef: 0.8998\n",
            "\n",
            "Epoch 00024: val_loss did not improve from -0.90729\n",
            "Epoch 25/50\n",
            "208/208 [==============================] - 309s 1s/step - loss: -0.9543 - binary_accuracy: 0.9988 - iou: 0.9132 - dice_coef: 0.9543 - val_loss: -0.9048 - val_binary_accuracy: 0.9977 - val_iou: 0.8268 - val_dice_coef: 0.9039\n",
            "\n",
            "Epoch 00025: val_loss did not improve from -0.90729\n",
            "Epoch 26/50\n",
            "208/208 [==============================] - 308s 1s/step - loss: -0.9571 - binary_accuracy: 0.9989 - iou: 0.9187 - dice_coef: 0.9571 - val_loss: -0.9014 - val_binary_accuracy: 0.9976 - val_iou: 0.8225 - val_dice_coef: 0.9015\n",
            "\n",
            "Epoch 00026: val_loss did not improve from -0.90729\n",
            "Epoch 27/50\n",
            "208/208 [==============================] - 308s 1s/step - loss: -0.9561 - binary_accuracy: 0.9989 - iou: 0.9176 - dice_coef: 0.9561 - val_loss: -0.9005 - val_binary_accuracy: 0.9975 - val_iou: 0.8185 - val_dice_coef: 0.8993\n",
            "\n",
            "Epoch 00027: val_loss did not improve from -0.90729\n",
            "Epoch 28/50\n",
            "208/208 [==============================] - 307s 1s/step - loss: -0.9599 - binary_accuracy: 0.9989 - iou: 0.9234 - dice_coef: 0.9599 - val_loss: -0.9078 - val_binary_accuracy: 0.9977 - val_iou: 0.8324 - val_dice_coef: 0.9072\n",
            "\n",
            "Epoch 00028: val_loss improved from -0.90729 to -0.90784, saving model to unet_brainMRI_seg.hdf5\n",
            "Epoch 29/50\n",
            "208/208 [==============================] - 307s 1s/step - loss: -0.9545 - binary_accuracy: 0.9988 - iou: 0.9138 - dice_coef: 0.9545 - val_loss: -0.9035 - val_binary_accuracy: 0.9977 - val_iou: 0.8320 - val_dice_coef: 0.9053\n",
            "\n",
            "Epoch 00029: val_loss did not improve from -0.90784\n",
            "Epoch 30/50\n",
            "208/208 [==============================] - 308s 1s/step - loss: -0.9639 - binary_accuracy: 0.9990 - iou: 0.9307 - dice_coef: 0.9639 - val_loss: -0.9042 - val_binary_accuracy: 0.9976 - val_iou: 0.8237 - val_dice_coef: 0.9016\n",
            "\n",
            "Epoch 00030: val_loss did not improve from -0.90784\n",
            "Epoch 31/50\n",
            "208/208 [==============================] - 308s 1s/step - loss: -0.9656 - binary_accuracy: 0.9991 - iou: 0.9338 - dice_coef: 0.9656 - val_loss: -0.9077 - val_binary_accuracy: 0.9976 - val_iou: 0.8318 - val_dice_coef: 0.9072\n",
            "\n",
            "Epoch 00031: val_loss did not improve from -0.90784\n",
            "Epoch 32/50\n",
            "208/208 [==============================] - 307s 1s/step - loss: -0.9606 - binary_accuracy: 0.9990 - iou: 0.9251 - dice_coef: 0.9606 - val_loss: -0.8955 - val_binary_accuracy: 0.9976 - val_iou: 0.8102 - val_dice_coef: 0.8918\n",
            "\n",
            "Epoch 00032: val_loss did not improve from -0.90784\n",
            "Epoch 33/50\n",
            "208/208 [==============================] - 309s 1s/step - loss: -0.9671 - binary_accuracy: 0.9991 - iou: 0.9367 - dice_coef: 0.9671 - val_loss: -0.8990 - val_binary_accuracy: 0.9976 - val_iou: 0.8184 - val_dice_coef: 0.8941\n",
            "\n",
            "Epoch 00033: val_loss did not improve from -0.90784\n",
            "Epoch 34/50\n",
            "208/208 [==============================] - 310s 1s/step - loss: -0.9679 - binary_accuracy: 0.9991 - iou: 0.9382 - dice_coef: 0.9679 - val_loss: -0.9076 - val_binary_accuracy: 0.9977 - val_iou: 0.8306 - val_dice_coef: 0.9050\n",
            "\n",
            "Epoch 00034: val_loss did not improve from -0.90784\n",
            "Epoch 35/50\n",
            "208/208 [==============================] - 310s 1s/step - loss: -0.9669 - binary_accuracy: 0.9991 - iou: 0.9363 - dice_coef: 0.9669 - val_loss: -0.9060 - val_binary_accuracy: 0.9976 - val_iou: 0.8325 - val_dice_coef: 0.9067\n",
            "\n",
            "Epoch 00035: val_loss did not improve from -0.90784\n",
            "Epoch 36/50\n",
            "208/208 [==============================] - 310s 1s/step - loss: -0.9691 - binary_accuracy: 0.9992 - iou: 0.9404 - dice_coef: 0.9691 - val_loss: -0.9045 - val_binary_accuracy: 0.9976 - val_iou: 0.8277 - val_dice_coef: 0.9032\n",
            "\n",
            "Epoch 00036: val_loss did not improve from -0.90784\n",
            "Epoch 37/50\n",
            "208/208 [==============================] - 310s 1s/step - loss: -0.9681 - binary_accuracy: 0.9991 - iou: 0.9386 - dice_coef: 0.9681 - val_loss: -0.9096 - val_binary_accuracy: 0.9977 - val_iou: 0.8353 - val_dice_coef: 0.9094\n",
            "\n",
            "Epoch 00037: val_loss improved from -0.90784 to -0.90962, saving model to unet_brainMRI_seg.hdf5\n",
            "Epoch 38/50\n",
            "208/208 [==============================] - 310s 1s/step - loss: -0.9624 - binary_accuracy: 0.9990 - iou: 0.9282 - dice_coef: 0.9624 - val_loss: -0.9072 - val_binary_accuracy: 0.9977 - val_iou: 0.8286 - val_dice_coef: 0.9049\n",
            "\n",
            "Epoch 00038: val_loss did not improve from -0.90962\n",
            "Epoch 39/50\n",
            "208/208 [==============================] - 310s 1s/step - loss: -0.9623 - binary_accuracy: 0.9991 - iou: 0.9317 - dice_coef: 0.9623 - val_loss: -0.9002 - val_binary_accuracy: 0.9976 - val_iou: 0.8275 - val_dice_coef: 0.9027\n",
            "\n",
            "Epoch 00039: val_loss did not improve from -0.90962\n",
            "Epoch 40/50\n",
            "208/208 [==============================] - 311s 1s/step - loss: -0.9624 - binary_accuracy: 0.9990 - iou: 0.9287 - dice_coef: 0.9624 - val_loss: -0.8935 - val_binary_accuracy: 0.9975 - val_iou: 0.8087 - val_dice_coef: 0.8914\n",
            "\n",
            "Epoch 00040: val_loss did not improve from -0.90962\n",
            "Epoch 41/50\n",
            "208/208 [==============================] - 310s 1s/step - loss: -0.9678 - binary_accuracy: 0.9991 - iou: 0.9380 - dice_coef: 0.9678 - val_loss: -0.9014 - val_binary_accuracy: 0.9975 - val_iou: 0.8202 - val_dice_coef: 0.9003\n",
            "\n",
            "Epoch 00041: val_loss did not improve from -0.90962\n",
            "Epoch 42/50\n",
            "208/208 [==============================] - 310s 1s/step - loss: -0.9714 - binary_accuracy: 0.9992 - iou: 0.9447 - dice_coef: 0.9714 - val_loss: -0.9013 - val_binary_accuracy: 0.9976 - val_iou: 0.8220 - val_dice_coef: 0.9011\n",
            "\n",
            "Epoch 00042: val_loss did not improve from -0.90962\n",
            "Epoch 43/50\n",
            "208/208 [==============================] - 310s 1s/step - loss: -0.9719 - binary_accuracy: 0.9992 - iou: 0.9456 - dice_coef: 0.9719 - val_loss: -0.9053 - val_binary_accuracy: 0.9976 - val_iou: 0.8312 - val_dice_coef: 0.9068\n",
            "\n",
            "Epoch 00043: val_loss did not improve from -0.90962\n",
            "Epoch 44/50\n",
            "208/208 [==============================] - 310s 1s/step - loss: -0.9697 - binary_accuracy: 0.9992 - iou: 0.9416 - dice_coef: 0.9697 - val_loss: -0.9019 - val_binary_accuracy: 0.9975 - val_iou: 0.8260 - val_dice_coef: 0.9039\n",
            "\n",
            "Epoch 00044: val_loss did not improve from -0.90962\n",
            "Epoch 45/50\n",
            "208/208 [==============================] - 310s 1s/step - loss: -0.9721 - binary_accuracy: 0.9992 - iou: 0.9460 - dice_coef: 0.9721 - val_loss: -0.9032 - val_binary_accuracy: 0.9975 - val_iou: 0.8218 - val_dice_coef: 0.9009\n",
            "\n",
            "Epoch 00045: val_loss did not improve from -0.90962\n",
            "Epoch 46/50\n",
            "208/208 [==============================] - 311s 1s/step - loss: -0.9718 - binary_accuracy: 0.9992 - iou: 0.9455 - dice_coef: 0.9718 - val_loss: -0.9051 - val_binary_accuracy: 0.9977 - val_iou: 0.8234 - val_dice_coef: 0.9017\n",
            "\n",
            "Epoch 00046: val_loss did not improve from -0.90962\n",
            "Epoch 47/50\n",
            "208/208 [==============================] - 310s 1s/step - loss: -0.9499 - binary_accuracy: 0.9987 - iou: 0.9119 - dice_coef: 0.9499 - val_loss: -0.3190 - val_binary_accuracy: 0.9895 - val_iou: 0.2163 - val_dice_coef: 0.3277\n",
            "\n",
            "Epoch 00047: val_loss did not improve from -0.90962\n",
            "Epoch 48/50\n",
            "208/208 [==============================] - 307s 1s/step - loss: -0.9486 - binary_accuracy: 0.9986 - iou: 0.9037 - dice_coef: 0.9486 - val_loss: -0.9093 - val_binary_accuracy: 0.9977 - val_iou: 0.8355 - val_dice_coef: 0.9095\n",
            "\n",
            "Epoch 00048: val_loss did not improve from -0.90962\n",
            "Epoch 49/50\n",
            "208/208 [==============================] - 306s 1s/step - loss: -0.9705 - binary_accuracy: 0.9992 - iou: 0.9431 - dice_coef: 0.9705 - val_loss: -0.9096 - val_binary_accuracy: 0.9977 - val_iou: 0.8345 - val_dice_coef: 0.9088\n",
            "\n",
            "Epoch 00049: val_loss did not improve from -0.90962\n",
            "Epoch 50/50\n",
            "208/208 [==============================] - 311s 1s/step - loss: -0.9726 - binary_accuracy: 0.9992 - iou: 0.9469 - dice_coef: 0.9726 - val_loss: -0.9057 - val_binary_accuracy: 0.9976 - val_iou: 0.8313 - val_dice_coef: 0.9072\n",
            "\n",
            "Epoch 00050: val_loss did not improve from -0.90962\n"
          ]
        }
      ]
    },
    {
      "cell_type": "code",
      "metadata": {
        "id": "Jyl49Sl0tE1S",
        "colab": {
          "base_uri": "https://localhost:8080/",
          "height": 315
        },
        "outputId": "908d6350-fec3-400c-cdd4-2e1461a0cfdb"
      },
      "source": [
        "traindice = history.history['dice_coef']\n",
        "testdice = history.history['val_dice_coef']\n",
        "\n",
        "trainjaccard = history.history['iou']\n",
        "testjaccard = history.history['val_iou']\n",
        "\n",
        "trainloss = history.history['loss']\n",
        "testloss = history.history['val_loss']\n",
        "plt.figure(1)\n",
        "plt.plot(testloss, 'b-')\n",
        "plt.plot(trainloss,'r-')\n",
        "plt.xlabel('iteration')\n",
        "plt.ylabel('loss')\n",
        "plt.title('loss graph', fontsize = 15)\n",
        "plt.legend(['train','val'])\n"
      ],
      "execution_count": 29,
      "outputs": [
        {
          "output_type": "execute_result",
          "data": {
            "text/plain": [
              "<matplotlib.legend.Legend at 0x7fb1f4934f50>"
            ]
          },
          "metadata": {},
          "execution_count": 29
        },
        {
          "output_type": "display_data",
          "data": {
            "image/png": "[encoded data removed]",
            "text/plain": [
              "<Figure size 432x288 with 1 Axes>"
            ]
          },
          "metadata": {
            "needs_background": "light"
          }
        }
      ]
    },
    {
      "cell_type": "code",
      "metadata": {
        "colab": {
          "base_uri": "https://localhost:8080/",
          "height": 297
        },
        "id": "YRWah7l-8jFH",
        "outputId": "e21525fe-2539-4f0e-932f-3d26c82e8390"
      },
      "source": [
        "plt.figure(2)\n",
        "plt.plot(traindice, 'r-')\n",
        "plt.plot(testdice, 'b-')\n",
        "plt.xlabel('iteration')\n",
        "plt.ylabel('accuracy')\n",
        "plt.title('accuracy graph', fontsize = 15)\n",
        "plt.legend(['train','val'])\n",
        "plt.show()"
      ],
      "execution_count": 30,
      "outputs": [
        {
          "output_type": "display_data",
          "data": {
            "image/png": "[encoded data removed]",
            "text/plain": [
              "<Figure size 432x288 with 1 Axes>"
            ]
          },
          "metadata": {
            "needs_background": "light"
          }
        }
      ]
    },
    {
      "cell_type": "code",
      "metadata": {
        "colab": {
          "base_uri": "https://localhost:8080/",
          "height": 315
        },
        "id": "uVUeciYxDePA",
        "outputId": "d9c0bbbc-cd26-4b1f-fad4-780c87e3506e"
      },
      "source": [
        "trainloss = history.history['loss']\n",
        "testloss = history.history['val_loss']\n",
        "plt.figure(1)\n",
        "plt.plot(testloss, 'b-')\n",
        "plt.plot(trainloss,'r-')\n",
        "plt.xlabel('iteration')\n",
        "plt.ylabel('loss')\n",
        "plt.title('loss graph', fontsize = 15)\n",
        "plt.legend(['train','test'])\n"
      ],
      "execution_count": 45,
      "outputs": [
        {
          "output_type": "execute_result",
          "data": {
            "text/plain": [
              "<matplotlib.legend.Legend at 0x7fb17aa5afd0>"
            ]
          },
          "metadata": {},
          "execution_count": 45
        },
        {
          "output_type": "display_data",
          "data": {
            "image/png": "[encoded data removed]",
            "text/plain": [
              "<Figure size 432x288 with 1 Axes>"
            ]
          },
          "metadata": {
            "needs_background": "light"
          }
        }
      ]
    },
    {
      "cell_type": "code",
      "metadata": {
        "colab": {
          "base_uri": "https://localhost:8080/",
          "height": 297
        },
        "id": "nBdDGoR8DiqB",
        "outputId": "fe747bbf-9b92-4af5-9388-4258eda535f7"
      },
      "source": [
        "plt.figure(2)\n",
        "plt.plot(traindice, 'r-')\n",
        "plt.plot(testdice, 'b-')\n",
        "plt.xlabel('iteration')\n",
        "plt.ylabel('accuracy')\n",
        "plt.title('accuracy graph', fontsize = 15)\n",
        "plt.legend(['train','test'])\n",
        "plt.show()"
      ],
      "execution_count": 46,
      "outputs": [
        {
          "output_type": "display_data",
          "data": {
            "image/png": "[encoded data removed]",
            "text/plain": [
              "<Figure size 432x288 with 1 Axes>"
            ]
          },
          "metadata": {
            "needs_background": "light"
          }
        }
      ]
    },
    {
      "cell_type": "code",
      "metadata": {
        "id": "FFckAaVttJNy",
        "colab": {
          "base_uri": "https://localhost:8080/"
        },
        "outputId": "97d739ac-bce0-431b-f415-b85d196dc284"
      },
      "source": [
        "\n",
        "test_gen = train_generator(df_test, BATCH_SIZE,\n",
        "                                dict(),\n",
        "                                target_size=IMAGE_SIZE)\n",
        "results = model.evaluate(test_gen, steps=len(df_test) / BATCH_SIZE)\n",
        "print(\"Test lost: \",results[0])\n",
        "print(\"Test IOU: \",results[1])\n",
        "print(\"Test Dice Coefficent: \",results[2])"
      ],
      "execution_count": 21,
      "outputs": [
        {
          "output_type": "stream",
          "name": "stderr",
          "text": [
            "/usr/local/lib/python3.7/dist-packages/keras_preprocessing/image/dataframe_iterator.py:282: UserWarning: Found 534 invalid image filename(s) in x_col=\"image_path\". These filename(s) will be ignored.\n",
            "  .format(n_invalid, x_col)\n",
            "/usr/local/lib/python3.7/dist-packages/keras_preprocessing/image/dataframe_iterator.py:282: UserWarning: Found 534 invalid image filename(s) in x_col=\"mask_path\". These filename(s) will be ignored.\n",
            "  .format(n_invalid, x_col)\n"
          ]
        },
        {
          "output_type": "stream",
          "name": "stdout",
          "text": [
            "Found 56 validated image filenames.\n",
            "Found 56 validated image filenames.\n",
            "36/36 [==============================] - 24s 641ms/step - loss: -0.9603 - binary_accuracy: 0.9987 - iou: 0.9223 - dice_coef: 0.9593\n",
            "Test lost:  -0.9603246450424194\n",
            "Test IOU:  0.9987130761146545\n",
            "Test Dice Coefficent:  0.9222817420959473\n"
          ]
        }
      ]
    },
    {
      "cell_type": "code",
      "metadata": {
        "colab": {
          "base_uri": "https://localhost:8080/"
        },
        "id": "aakDlmo-2DYk",
        "outputId": "e2b6eaa6-cafe-462f-9f16-0abca26cfc61"
      },
      "source": [
        "test_gen1 = train_generator(df_train, BATCH_SIZE,\n",
        "                                dict(),\n",
        "                                target_size=IMAGE_SIZE)\n",
        "results1 = model.evaluate(test_gen1, steps=len(df_train) / BATCH_SIZE)\n",
        "print(\"Test lost: \",results1[0])\n",
        "print(\"Test IOU: \",results1[1])\n",
        "print(\"Test Dice Coefficent: \",results1[2])"
      ],
      "execution_count": 24,
      "outputs": [
        {
          "output_type": "stream",
          "name": "stderr",
          "text": [
            "/usr/local/lib/python3.7/dist-packages/keras_preprocessing/image/dataframe_iterator.py:282: UserWarning: Found 3035 invalid image filename(s) in x_col=\"image_path\". These filename(s) will be ignored.\n",
            "  .format(n_invalid, x_col)\n"
          ]
        },
        {
          "output_type": "stream",
          "name": "stdout",
          "text": [
            "Found 304 validated image filenames.\n"
          ]
        },
        {
          "output_type": "stream",
          "name": "stderr",
          "text": [
            "/usr/local/lib/python3.7/dist-packages/keras_preprocessing/image/dataframe_iterator.py:282: UserWarning: Found 3035 invalid image filename(s) in x_col=\"mask_path\". These filename(s) will be ignored.\n",
            "  .format(n_invalid, x_col)\n"
          ]
        },
        {
          "output_type": "stream",
          "name": "stdout",
          "text": [
            "Found 304 validated image filenames.\n",
            "208/208 [==============================] - 92s 440ms/step - loss: -0.9762 - binary_accuracy: 0.9993 - iou: 0.9540 - dice_coef: 0.9762\n",
            "Test lost:  -0.9761937260627747\n",
            "Test IOU:  0.9993387460708618\n",
            "Test Dice Coefficent:  0.9540213346481323\n"
          ]
        }
      ]
    },
    {
      "cell_type": "code",
      "metadata": {
        "colab": {
          "base_uri": "https://localhost:8080/"
        },
        "id": "q654cUs44vik",
        "outputId": "f8667ffa-6c29-4524-dfdd-f03631fa2592"
      },
      "source": [
        "test_gen2 = train_generator(df_val, BATCH_SIZE,\n",
        "                                dict(),\n",
        "                                target_size=IMAGE_SIZE)\n",
        "results2 = model.evaluate(test_gen2, steps=len(df_val) / BATCH_SIZE)\n",
        "print(\"Test lost: \",results2[0])\n",
        "print(\"Test IOU: \",results2[1])\n",
        "print(\"Test Dice Coefficent: \",results2[2])"
      ],
      "execution_count": 25,
      "outputs": [
        {
          "output_type": "stream",
          "name": "stderr",
          "text": [
            "/usr/local/lib/python3.7/dist-packages/keras_preprocessing/image/dataframe_iterator.py:282: UserWarning: Found 536 invalid image filename(s) in x_col=\"image_path\". These filename(s) will be ignored.\n",
            "  .format(n_invalid, x_col)\n",
            "/usr/local/lib/python3.7/dist-packages/keras_preprocessing/image/dataframe_iterator.py:282: UserWarning: Found 536 invalid image filename(s) in x_col=\"mask_path\". These filename(s) will be ignored.\n",
            "  .format(n_invalid, x_col)\n"
          ]
        },
        {
          "output_type": "stream",
          "name": "stdout",
          "text": [
            "Found 54 validated image filenames.\n",
            "Found 54 validated image filenames.\n",
            "36/36 [==============================] - 15s 410ms/step - loss: -0.9003 - binary_accuracy: 0.9976 - iou: 0.8200 - dice_coef: 0.8923\n",
            "Test lost:  -0.900324285030365\n",
            "Test IOU:  0.9976056218147278\n",
            "Test Dice Coefficent:  0.8200237154960632\n"
          ]
        }
      ]
    },
    {
      "cell_type": "code",
      "metadata": {
        "colab": {
          "base_uri": "https://localhost:8080/",
          "height": 577
        },
        "id": "7FsSy32hC-55",
        "outputId": "2f843666-f540-47fd-b1eb-3242f4acd5ba"
      },
      "source": [
        "plt.figure(figsize=(12,5))\n",
        "plt.subplot(1,2,1)\n",
        "plt.plot(history.history['loss'])\n",
        "plt.plot(history.history['val_loss'])\n",
        "plt.title('Loss')\n",
        "plt.ylim((0, 10))\n",
        "plt.ylabel('loss')\n",
        "plt.xlabel('Epochs')\n",
        "plt.legend(['train','val'])\n",
        "\n",
        "plt.subplot(1,2,2)\n",
        "plt.plot(history.history['accuracy'])\n",
        "plt.plot(history.history['val_accuracy'])\n",
        "plt.title('Accuracy')\n",
        "plt.ylabel('Accuracy')\n",
        "plt.xlabel('Epochs')\n",
        "plt.legend(['train', 'val'])"
      ],
      "execution_count": 44,
      "outputs": [
        {
          "output_type": "error",
          "ename": "KeyError",
          "evalue": "ignored",
          "traceback": [
            "\u001b[0;31m---------------------------------------------------------------------------\u001b[0m",
            "\u001b[0;31mKeyError\u001b[0m                                  Traceback (most recent call last)",
            "\u001b[0;32m<ipython-input-44-d730b8eef2c7>\u001b[0m in \u001b[0;36m<module>\u001b[0;34m()\u001b[0m\n\u001b[1;32m     10\u001b[0m \u001b[0;34m\u001b[0m\u001b[0m\n\u001b[1;32m     11\u001b[0m \u001b[0mplt\u001b[0m\u001b[0;34m.\u001b[0m\u001b[0msubplot\u001b[0m\u001b[0;34m(\u001b[0m\u001b[0;36m1\u001b[0m\u001b[0;34m,\u001b[0m\u001b[0;36m2\u001b[0m\u001b[0;34m,\u001b[0m\u001b[0;36m2\u001b[0m\u001b[0;34m)\u001b[0m\u001b[0;34m\u001b[0m\u001b[0;34m\u001b[0m\u001b[0m\n\u001b[0;32m---> 12\u001b[0;31m \u001b[0mplt\u001b[0m\u001b[0;34m.\u001b[0m\u001b[0mplot\u001b[0m\u001b[0;34m(\u001b[0m\u001b[0mhistory\u001b[0m\u001b[0;34m.\u001b[0m\u001b[0mhistory\u001b[0m\u001b[0;34m[\u001b[0m\u001b[0;34m'accuracy'\u001b[0m\u001b[0;34m]\u001b[0m\u001b[0;34m)\u001b[0m\u001b[0;34m\u001b[0m\u001b[0;34m\u001b[0m\u001b[0m\n\u001b[0m\u001b[1;32m     13\u001b[0m \u001b[0mplt\u001b[0m\u001b[0;34m.\u001b[0m\u001b[0mplot\u001b[0m\u001b[0;34m(\u001b[0m\u001b[0mhistory\u001b[0m\u001b[0;34m.\u001b[0m\u001b[0mhistory\u001b[0m\u001b[0;34m[\u001b[0m\u001b[0;34m'val_accuracy'\u001b[0m\u001b[0;34m]\u001b[0m\u001b[0;34m)\u001b[0m\u001b[0;34m\u001b[0m\u001b[0;34m\u001b[0m\u001b[0m\n\u001b[1;32m     14\u001b[0m \u001b[0mplt\u001b[0m\u001b[0;34m.\u001b[0m\u001b[0mtitle\u001b[0m\u001b[0;34m(\u001b[0m\u001b[0;34m'Accuracy'\u001b[0m\u001b[0;34m)\u001b[0m\u001b[0;34m\u001b[0m\u001b[0;34m\u001b[0m\u001b[0m\n",
            "\u001b[0;31mKeyError\u001b[0m: 'accuracy'"
          ]
        },
        {
          "output_type": "display_data",
          "data": {
            "image/png": "[encoded data removed]",
            "text/plain": [
              "<Figure size 864x360 with 2 Axes>"
            ]
          },
          "metadata": {
            "needs_background": "light"
          }
        }
      ]
    }
  ]
}